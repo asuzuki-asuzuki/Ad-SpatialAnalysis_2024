{
 "cells": [
  {
   "cell_type": "markdown",
   "id": "d164921e-3453-4adc-a3db-b6d9e6a5d87c",
   "metadata": {
    "editable": true,
    "slideshow": {
     "slide_type": ""
    },
    "tags": []
   },
   "source": [
    "## 1.Visium data analysis forLUAD3B"
   ]
  },
  {
   "cell_type": "code",
   "execution_count": null,
   "id": "260b52c4-d591-416c-b67b-77708f0587e9",
   "metadata": {
    "editable": true,
    "slideshow": {
     "slide_type": ""
    },
    "tags": []
   },
   "outputs": [],
   "source": [
    "import scanpy as sc\n",
    "import pandas as pd\n",
    "import matplotlib.pyplot as plt\n",
    "import commot as ct\n",
    "import anndata\n",
    "import numpy as np\n",
    "from mpl_toolkits.axes_grid1 import make_axes_locatable"
   ]
  },
  {
   "cell_type": "markdown",
   "id": "67562347-c3f9-4db0-b114-cb9a61a7b147",
   "metadata": {
    "tags": []
   },
   "source": [
    "## 2.Preprocessing the data\n",
    "Read the Raw count data for Visium and metadata extracted from Seurat Object. Perform the Log normalization and create adata."
   ]
  },
  {
   "cell_type": "code",
   "execution_count": null,
   "id": "372693dd-2463-4591-a6ec-6fe3d23c97b9",
   "metadata": {},
   "outputs": [],
   "source": [
    "adata = sc.read_visium(\"Enter the file path\", count_file=\"filtered_feature_bc_matrix.h5\")\n",
    "meta_data = pd.read_csv(\"Enter the file path to the metadata\", index_col=0)"
   ]
  },
  {
   "cell_type": "markdown",
   "id": "1cb6142c-6b83-4a03-940e-59ec41c81ad1",
   "metadata": {},
   "source": [
    "## 3. Create anndata and log normalization"
   ]
  },
  {
   "cell_type": "code",
   "execution_count": null,
   "id": "736cf0bd-16aa-4b1d-8797-676e8e8a555f",
   "metadata": {},
   "outputs": [],
   "source": [
    "adata.var_names_make_unique()\n",
    "adata.raw = adata\n",
    "sc.pp.normalize_total(adata, inplace=True)\n",
    "sc.pp.log1p(adata)"
   ]
  },
  {
   "cell_type": "code",
   "execution_count": null,
   "id": "7ca979b1-01af-47f2-be45-b7b2a3f38510",
   "metadata": {},
   "outputs": [],
   "source": [
    "adata_dis200 = adata.copy()"
   ]
  },
  {
   "cell_type": "markdown",
   "id": "51fe08e0-5aa1-466d-b345-5f2fa3ae8f05",
   "metadata": {},
   "source": [
    "## **3.Spatial communication inference**"
   ]
  },
  {
   "cell_type": "markdown",
   "id": "1f499bf6-7ff1-4609-a760-1cc8904eb515",
   "metadata": {},
   "source": [
    "CellChatDB ligand-receptor database is utilized to caluculate the ligand-receptor intensity.Distance threshfolds are set to be 200 μm. \n",
    "Only the secreted signaling LR pairs is utilized for this calculation."
   ]
  },
  {
   "cell_type": "code",
   "execution_count": null,
   "id": "b22d823e-ba1e-462e-ae79-f3e990beb80c",
   "metadata": {},
   "outputs": [],
   "source": [
    "df_cellchat = ct.pp.ligand_receptor_database(species='human', signaling_type='Secreted Signaling', database='CellChat')"
   ]
  },
  {
   "cell_type": "code",
   "execution_count": null,
   "id": "41160d3c-ff54-4c1a-bf35-9a01a180501b",
   "metadata": {},
   "outputs": [],
   "source": [
    "df_cellchat_filtered = ct.pp.filter_lr_database(df_cellchat, adata_dis200, min_cell_pct=0.05)"
   ]
  },
  {
   "cell_type": "code",
   "execution_count": null,
   "id": "2b4979b7-576e-4ac1-b16f-6f124e477a22",
   "metadata": {},
   "outputs": [],
   "source": [
    "ct.tl.spatial_communication(adata_dis200,\n",
    "     database_name='cellchat', df_ligrec=df_cellchat_filtered, dis_thr=200, heteromeric=True, pathway_sum=True)"
   ]
  },
  {
   "cell_type": "markdown",
   "id": "536fd1ba-d8c9-42c9-94fc-a343e32954b5",
   "metadata": {},
   "source": [
    "## 4.Vizualize SPP1 signaling (Sender and Reciver)"
   ]
  },
  {
   "cell_type": "code",
   "execution_count": null,
   "id": "4186e6fc-4c66-43fc-ba5d-9d5b18ce08b7",
   "metadata": {},
   "outputs": [],
   "source": [
    "import numpy as np\n",
    "from mpl_toolkits.axes_grid1 import make_axes_locatable\n",
    "\n",
    "fig, axes = plt.subplots(1, 2, figsize=(10, 5.5))\n",
    "\n",
    "## Sender\n",
    "\n",
    "X_sc1 = adata_dis200.obsm['spatial']\n",
    "colors1 = adata_dis200.obsm['commot-cellchat-sum-sender']['s-SPP1'].values\n",
    "scatter1 = axes[0].scatter(X_sc1[:, 0], X_sc1[:, 1], c=colors1, cmap='jet', s=5)\n",
    "axes[0].set_title('Sender SPP1 signal', fontsize=18)\n",
    "axes[0].invert_yaxis()\n",
    "axes[0].set_aspect('equal')\n",
    "axes[0].set_xticks([])\n",
    "axes[0].set_yticks([])\n",
    "\n",
    "divider = make_axes_locatable(axes[0])\n",
    "cax = divider.append_axes(\"right\", size=\"3%\", pad=0.1)\n",
    "plt.colorbar(scatter1, cax=cax)\n",
    "\n",
    "plt.tight_layout()\n",
    "\n",
    "## Reciever\n",
    "\n",
    "X_sc2 = adata_dis200.obsm['spatial']\n",
    "colors2 = adata_dis200.obsm['commot-cellchat-sum-receiver']['r-SPP1'].values\n",
    "scatter2 = axes[1].scatter(X_sc2[:, 0], X_sc2[:, 1], c=colors2, cmap='jet', s=5)\n",
    "axes[1].set_title('Receiver SPP1 signal', fontsize=18)\n",
    "axes[1].invert_yaxis()\n",
    "axes[1].set_aspect('equal')\n",
    "axes[1].set_xticks([])\n",
    "axes[1].set_yticks([])\n",
    "\n",
    "divider = make_axes_locatable(axes[1])\n",
    "cax = divider.append_axes(\"right\", size=\"3%\", pad=0.1)\n",
    "plt.colorbar(scatter2, cax=cax)\n",
    "\n",
    "plt.savefig(\"SPP1_Sender_Reciver.png\", format=\"png\", dpi=600, bbox_inches='tight', pad_inches=0.1)"
   ]
  }
 ],
 "metadata": {
  "kernelspec": {
   "display_name": "COMMTenv",
   "language": "python",
   "name": "commtenv"
  },
  "language_info": {
   "codemirror_mode": {
    "name": "ipython",
    "version": 3
   },
   "file_extension": ".py",
   "mimetype": "text/x-python",
   "name": "python",
   "nbconvert_exporter": "python",
   "pygments_lexer": "ipython3",
   "version": "3.10.12"
  }
 },
 "nbformat": 4,
 "nbformat_minor": 5
}
